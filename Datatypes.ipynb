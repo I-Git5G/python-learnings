{
  "nbformat": 4,
  "nbformat_minor": 0,
  "metadata": {
    "colab": {
      "provenance": [],
      "authorship_tag": "ABX9TyMlWjRy97TLtNzobm4nLPEl",
      "include_colab_link": true
    },
    "kernelspec": {
      "name": "python3",
      "display_name": "Python 3"
    },
    "language_info": {
      "name": "python"
    }
  },
  "cells": [
    {
      "cell_type": "markdown",
      "metadata": {
        "id": "view-in-github",
        "colab_type": "text"
      },
      "source": [
        "<a href=\"https://colab.research.google.com/github/I-Git5G/python-learnings/blob/main/Datatypes.ipynb\" target=\"_parent\"><img src=\"https://colab.research.google.com/assets/colab-badge.svg\" alt=\"Open In Colab\"/></a>"
      ]
    },
    {
      "cell_type": "code",
      "execution_count": 2,
      "metadata": {
        "id": "SFQlDuUDjx0s",
        "colab": {
          "base_uri": "https://localhost:8080/"
        },
        "outputId": "e9c28af4-c25c-4d20-bf1a-0957583469ab"
      },
      "outputs": [
        {
          "output_type": "stream",
          "name": "stdout",
          "text": [
            "welldone\n",
            "<class 'str'>\n"
          ]
        }
      ],
      "source": [
        "#Text type:\n",
        "#string\n",
        "x=(\"welldone\")\n",
        "print(x)\n",
        "print(type(x))"
      ]
    },
    {
      "cell_type": "code",
      "source": [
        "#numeric type:\n",
        "#int\n",
        "x=4\n",
        "y=10\n",
        "print(x+y)\n",
        "print(type(x))"
      ],
      "metadata": {
        "colab": {
          "base_uri": "https://localhost:8080/"
        },
        "id": "WHNywIcWFspn",
        "outputId": "05838bb3-0a81-48a0-b2dd-4e214c591f18"
      },
      "execution_count": 7,
      "outputs": [
        {
          "output_type": "stream",
          "name": "stdout",
          "text": [
            "14\n",
            "<class 'int'>\n"
          ]
        }
      ]
    },
    {
      "cell_type": "code",
      "source": [
        "#float\n",
        "x=5.0\n",
        "y=6\n",
        "print(x/y)\n",
        "print(type(x))"
      ],
      "metadata": {
        "colab": {
          "base_uri": "https://localhost:8080/"
        },
        "id": "BllRw2JuGUuo",
        "outputId": "a3b3024a-3856-44c1-a0ac-e812ee8ef881"
      },
      "execution_count": 8,
      "outputs": [
        {
          "output_type": "stream",
          "name": "stdout",
          "text": [
            "0.8333333333333334\n",
            "<class 'float'>\n"
          ]
        }
      ]
    },
    {
      "cell_type": "code",
      "source": [
        "#complex\n",
        "x=100j\n",
        "y=89\n",
        "z=98\n",
        "A=y+z+100j\n",
        "print(x+y+z)\n",
        "print(type(x))\n"
      ],
      "metadata": {
        "colab": {
          "base_uri": "https://localhost:8080/"
        },
        "id": "F58O8GlnGohk",
        "outputId": "ea0e80b8-caf7-4b6a-c62f-f928556ccb61"
      },
      "execution_count": 12,
      "outputs": [
        {
          "output_type": "stream",
          "name": "stdout",
          "text": [
            "(187+100j)\n",
            "<class 'complex'>\n"
          ]
        }
      ]
    },
    {
      "cell_type": "code",
      "source": [
        "#sequence type\n",
        "#list\n",
        "x= ['space','shuttle','moon']\n",
        "print(x)\n",
        "print(type(x))"
      ],
      "metadata": {
        "colab": {
          "base_uri": "https://localhost:8080/"
        },
        "id": "numB_FIDHerh",
        "outputId": "8342367d-a580-42bf-8311-2c0055fa5d87"
      },
      "execution_count": 14,
      "outputs": [
        {
          "output_type": "stream",
          "name": "stdout",
          "text": [
            "['space', 'shuttle', 'moon']\n",
            "<class 'list'>\n"
          ]
        }
      ]
    },
    {
      "cell_type": "code",
      "source": [
        "#tuple\n",
        "x=(\"ancient\",)\n",
        "print(type(x))"
      ],
      "metadata": {
        "colab": {
          "base_uri": "https://localhost:8080/"
        },
        "id": "3hxXMJihIE8f",
        "outputId": "40fd2a43-0b43-4359-85ac-ecfc28bfd175"
      },
      "execution_count": 15,
      "outputs": [
        {
          "output_type": "stream",
          "name": "stdout",
          "text": [
            "<class 'tuple'>\n"
          ]
        }
      ]
    },
    {
      "cell_type": "code",
      "source": [
        "#range\n",
        "A=6\n",
        "B=7\n",
        "print(A-B)\n",
        "print(range(A))\n",
        "print(range(B))"
      ],
      "metadata": {
        "colab": {
          "base_uri": "https://localhost:8080/"
        },
        "id": "G3qlmiisJFTd",
        "outputId": "7f3e2bc2-be20-4fd0-abd4-a70c19a0bb41"
      },
      "execution_count": 19,
      "outputs": [
        {
          "output_type": "stream",
          "name": "stdout",
          "text": [
            "-1\n",
            "range(0, 6)\n",
            "range(0, 7)\n"
          ]
        }
      ]
    },
    {
      "cell_type": "code",
      "source": [
        "#Mapping type\n",
        "#dictionary\n",
        "x={\"human\":\"1\",\"lemon\":\"2\"}\n",
        "y={\"van\":\"200\",\"bus\":\"300\"}\n",
        "print(x,y)\n",
        "print(type(x))\n",
        "print(type(y))"
      ],
      "metadata": {
        "colab": {
          "base_uri": "https://localhost:8080/"
        },
        "id": "AZxsVdtHJx3v",
        "outputId": "476cb36f-6b8d-4d82-9809-8959c92cda26"
      },
      "execution_count": 30,
      "outputs": [
        {
          "output_type": "stream",
          "name": "stdout",
          "text": [
            "{'human': '1', 'lemon': '2'} {'van': '200', 'bus': '300'}\n",
            "<class 'dict'>\n",
            "<class 'dict'>\n"
          ]
        }
      ]
    },
    {
      "cell_type": "code",
      "source": [
        "#set type:\n",
        "#set\n",
        "A={\"dominos\",\"kfc\"}\n",
        "B={\"chicken\"}\n",
        "print(A,B)\n",
        "print(type(A))\n",
        "print(type(B))"
      ],
      "metadata": {
        "colab": {
          "base_uri": "https://localhost:8080/"
        },
        "id": "SDOKlElTMK4O",
        "outputId": "1c4d57f1-fb46-4b72-de36-60272e0b46b2"
      },
      "execution_count": 35,
      "outputs": [
        {
          "output_type": "stream",
          "name": "stdout",
          "text": [
            "{'dominos', 'kfc'} {'chicken'}\n",
            "<class 'set'>\n",
            "<class 'set'>\n"
          ]
        }
      ]
    },
    {
      "cell_type": "code",
      "source": [
        "#Boolean type\n",
        "#bool\n",
        "x =(6 > 9)\n",
        "y =(6 < 9)\n",
        "print(x)\n",
        "print(y)\n"
      ],
      "metadata": {
        "colab": {
          "base_uri": "https://localhost:8080/"
        },
        "id": "-DRfudV_OgRP",
        "outputId": "c47c95ca-7b5c-443f-dcf0-f9d087c6b4a3"
      },
      "execution_count": 53,
      "outputs": [
        {
          "output_type": "stream",
          "name": "stdout",
          "text": [
            "False\n",
            "True\n"
          ]
        }
      ]
    },
    {
      "cell_type": "code",
      "source": [
        "#Binarytypes\n",
        "#bytes\n",
        "x=b'hello'\n",
        "print(bytes(x))"
      ],
      "metadata": {
        "colab": {
          "base_uri": "https://localhost:8080/"
        },
        "id": "lh_asoG7RdB2",
        "outputId": "68a1a3db-8f74-468c-cfe0-a7b1b83c9080"
      },
      "execution_count": 59,
      "outputs": [
        {
          "output_type": "stream",
          "name": "stdout",
          "text": [
            "b'hello'\n"
          ]
        }
      ]
    },
    {
      "cell_type": "code",
      "source": [
        "#bytearray\n",
        "x=4\n",
        "print(bytearray(4))"
      ],
      "metadata": {
        "colab": {
          "base_uri": "https://localhost:8080/"
        },
        "id": "rGNIpLv8RzRU",
        "outputId": "04a6eafa-a0b7-4db8-834a-6f2c81946482"
      },
      "execution_count": 57,
      "outputs": [
        {
          "output_type": "stream",
          "name": "stdout",
          "text": [
            "bytearray(b'\\x00\\x00\\x00\\x00')\n"
          ]
        }
      ]
    }
  ]
}