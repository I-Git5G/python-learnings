{
  "nbformat": 4,
  "nbformat_minor": 0,
  "metadata": {
    "colab": {
      "provenance": [],
      "authorship_tag": "ABX9TyMUssFz/VEsf07KDtxkFldM",
      "include_colab_link": true
    },
    "kernelspec": {
      "name": "python3",
      "display_name": "Python 3"
    },
    "language_info": {
      "name": "python"
    }
  },
  "cells": [
    {
      "cell_type": "markdown",
      "metadata": {
        "id": "view-in-github",
        "colab_type": "text"
      },
      "source": [
        "<a href=\"https://colab.research.google.com/github/I-Git5G/python-learnings/blob/main/Tuples.ipynb\" target=\"_parent\"><img src=\"https://colab.research.google.com/assets/colab-badge.svg\" alt=\"Open In Colab\"/></a>"
      ]
    },
    {
      "cell_type": "code",
      "execution_count": 4,
      "metadata": {
        "colab": {
          "base_uri": "https://localhost:8080/"
        },
        "id": "KLS03PVgXb5H",
        "outputId": "82dedc11-29d8-4aba-cca9-2a88367f73ea"
      },
      "outputs": [
        {
          "output_type": "stream",
          "name": "stdout",
          "text": [
            "John\n",
            "22\n",
            "Math\n"
          ]
        }
      ],
      "source": [
        "#unpack tuple\n",
        "student = (\"John\", 22, \"Math\")\n",
        "(name,age,major) = student\n",
        "print(name)\n",
        "print(age)\n",
        "print(major)\n",
        "\n"
      ]
    },
    {
      "cell_type": "code",
      "source": [
        "#tuple method\n",
        "numbers = (1, 2, 3, 4, 5)\n",
        "print(numbers[3])\n",
        "count=numbers.count(3)\n",
        "print(count)"
      ],
      "metadata": {
        "colab": {
          "base_uri": "https://localhost:8080/"
        },
        "id": "c02WEzhPhCUr",
        "outputId": "6590a972-d7df-481a-9fcc-d91a458a259c"
      },
      "execution_count": 8,
      "outputs": [
        {
          "output_type": "stream",
          "name": "stdout",
          "text": [
            "4\n",
            "1\n"
          ]
        }
      ]
    },
    {
      "cell_type": "code",
      "source": [
        "#tuple concatenation\n",
        "tuple1 = (1, 2, 3)\n",
        "tuple2 = (4, 5, 6)\n",
        "result= tuple1 + tuple2\n",
        "print(result)"
      ],
      "metadata": {
        "colab": {
          "base_uri": "https://localhost:8080/"
        },
        "id": "ujsJ6MGbmeJo",
        "outputId": "d0a6f3ac-d966-40a9-fb09-e6975ef3b7bd"
      },
      "execution_count": 9,
      "outputs": [
        {
          "output_type": "stream",
          "name": "stdout",
          "text": [
            "(1, 2, 3, 4, 5, 6)\n"
          ]
        }
      ]
    },
    {
      "cell_type": "code",
      "source": [
        "#slicing tuple\n",
        "numbers = (1, 2, 3, 4, 5, 6, 7, 8, 9, 10)\n",
        "print(numbers[3:8])\n"
      ],
      "metadata": {
        "colab": {
          "base_uri": "https://localhost:8080/"
        },
        "id": "Lsxd3Z9vnVfh",
        "outputId": "90034b3a-4b84-4e0c-b71b-ba596d9ad2a1"
      },
      "execution_count": 14,
      "outputs": [
        {
          "output_type": "stream",
          "name": "stdout",
          "text": [
            "(4, 5, 6, 7, 8)\n"
          ]
        }
      ]
    },
    {
      "cell_type": "code",
      "source": [
        "#to change a tuple we have to change it in to list\n",
        "x = (\"apple\", \"banana\", \"cherry\")\n",
        "y=list(x)\n",
        "y[1]=\"mango\"\n",
        "x=tuple(y)\n",
        "print(x)\n",
        "\n",
        "\n"
      ],
      "metadata": {
        "colab": {
          "base_uri": "https://localhost:8080/"
        },
        "id": "wlNIeN7AsT-V",
        "outputId": "a6bdcf0f-9eec-4512-dbf2-1ae58e94d528"
      },
      "execution_count": 17,
      "outputs": [
        {
          "output_type": "stream",
          "name": "stdout",
          "text": [
            "('apple', 'mango', 'cherry')\n"
          ]
        }
      ]
    }
  ]
}