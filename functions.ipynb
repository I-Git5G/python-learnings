{
  "nbformat": 4,
  "nbformat_minor": 0,
  "metadata": {
    "colab": {
      "provenance": [],
      "authorship_tag": "ABX9TyOz97VicHzX9BlC6vuoXERJ",
      "include_colab_link": true
    },
    "kernelspec": {
      "name": "python3",
      "display_name": "Python 3"
    },
    "language_info": {
      "name": "python"
    }
  },
  "cells": [
    {
      "cell_type": "markdown",
      "metadata": {
        "id": "view-in-github",
        "colab_type": "text"
      },
      "source": [
        "<a href=\"https://colab.research.google.com/github/I-Git5G/python-learnings/blob/main/functions.ipynb\" target=\"_parent\"><img src=\"https://colab.research.google.com/assets/colab-badge.svg\" alt=\"Open In Colab\"/></a>"
      ]
    },
    {
      "cell_type": "code",
      "source": [
        "#BMI calculation\n",
        "def calculate_bmi(weight,height):\n",
        " height_in_meters = height / 100\n",
        " bmi=weight/(height_in_meters **2)\n",
        "\n",
        " if bmi > 16.0 and bmi < 18.5:\n",
        "  print(\"underweight\")\n",
        " elif bmi >18.5 and bmi < 25.5:\n",
        "  print(\"normal\")\n",
        " elif bmi >25.5 and bmi < 40.0:\n",
        "  print(\"overweight\")\n",
        " else :\n",
        "  print(\"obese\")\n",
        "\n",
        "weight=float(input(\"enter weight in kgs:\"))\n",
        "height=float(input(\"enter height in meters:\"))\n",
        "\n",
        "bmi=calculate_bmi(weight,height)\n",
        ""
      ],
      "metadata": {
        "colab": {
          "base_uri": "https://localhost:8080/"
        },
        "id": "3zJLHN81_9ch",
        "outputId": "bfe371f0-c5c8-46fb-96d9-64b7dc0f139c"
      },
      "execution_count": 70,
      "outputs": [
        {
          "output_type": "stream",
          "name": "stdout",
          "text": [
            "enter weight in kgs:76\n",
            "enter height in meters:172\n",
            "overweight\n"
          ]
        }
      ]
    }
  ]
}