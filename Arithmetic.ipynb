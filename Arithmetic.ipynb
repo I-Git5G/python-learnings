{
  "nbformat": 4,
  "nbformat_minor": 0,
  "metadata": {
    "colab": {
      "provenance": [],
      "authorship_tag": "ABX9TyPj5oX4sPRfdI26X2lDVv49",
      "include_colab_link": true
    },
    "kernelspec": {
      "name": "python3",
      "display_name": "Python 3"
    },
    "language_info": {
      "name": "python"
    }
  },
  "cells": [
    {
      "cell_type": "markdown",
      "metadata": {
        "id": "view-in-github",
        "colab_type": "text"
      },
      "source": [
        "<a href=\"https://colab.research.google.com/github/I-Git5G/python-learnings/blob/main/Arithmetic.ipynb\" target=\"_parent\"><img src=\"https://colab.research.google.com/assets/colab-badge.svg\" alt=\"Open In Colab\"/></a>"
      ]
    },
    {
      "cell_type": "code",
      "source": [
        "val1 = 2\n",
        "val2 = 3\n",
        "\n",
        "# using the addition operator\n",
        "count = val1 + val2\n",
        "print(count)"
      ],
      "metadata": {
        "colab": {
          "base_uri": "https://localhost:8080/"
        },
        "id": "bfGvMVHUJRky",
        "outputId": "1b4f780c-b886-43ee-9c82-ec13155bc879"
      },
      "execution_count": 1,
      "outputs": [
        {
          "output_type": "stream",
          "name": "stdout",
          "text": [
            "5\n"
          ]
        }
      ]
    },
    {
      "cell_type": "code",
      "execution_count": null,
      "metadata": {
        "id": "lHFkmPl3I4LL"
      },
      "outputs": [],
      "source": [
        "\n",
        "\n",
        "num1 = 5\n",
        "num2 = 3\n",
        "\n",
        "# using the subtraction operator\n",
        "res = num1 - num2\n",
        "print(res)\n",
        "\n",
        "num_1 = 2\n",
        "num_2 = 3\n",
        "\n",
        "# using the multiplication operator\n",
        "a = num_1 * num_2\n",
        "print(a)\n",
        "\n",
        "a1 = 3\n",
        "a2 = 2\n",
        "\n",
        "# using the division operator\n",
        "c = a1 / a2\n",
        "print(c)\n",
        "\n",
        "b1 = 3\n",
        "b2 = 2\n",
        "\n",
        "# using the modulus operator\n",
        "d = b1 % b2\n",
        "print(d)\n",
        "\n",
        "c1 = 2\n",
        "c2 = 3\n",
        "\n",
        "# using the exponentiation operator\n",
        "e = c1 ** c2\n",
        "print(e)\n",
        "\n",
        "f1 = 3\n",
        "f2 = 2\n",
        "\n",
        "# using the floor division\n",
        "g = f1 // f2\n",
        "print(g)"
      ]
    }
  ]
}