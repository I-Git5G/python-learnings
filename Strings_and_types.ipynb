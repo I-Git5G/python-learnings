{
  "nbformat": 4,
  "nbformat_minor": 0,
  "metadata": {
    "colab": {
      "provenance": [],
      "authorship_tag": "ABX9TyOaGST40sP3BnMlQGJv9mna",
      "include_colab_link": true
    },
    "kernelspec": {
      "name": "python3",
      "display_name": "Python 3"
    },
    "language_info": {
      "name": "python"
    }
  },
  "cells": [
    {
      "cell_type": "markdown",
      "metadata": {
        "id": "view-in-github",
        "colab_type": "text"
      },
      "source": [
        "<a href=\"https://colab.research.google.com/github/I-Git5G/python-learnings/blob/main/Strings_and_types.ipynb\" target=\"_parent\"><img src=\"https://colab.research.google.com/assets/colab-badge.svg\" alt=\"Open In Colab\"/></a>"
      ]
    },
    {
      "cell_type": "code",
      "execution_count": 2,
      "metadata": {
        "colab": {
          "base_uri": "https://localhost:8080/"
        },
        "id": "PfrqG4Nhtc84",
        "outputId": "b3b9f18b-767c-4d40-876c-62dc31411175"
      },
      "outputs": [
        {
          "output_type": "stream",
          "name": "stdout",
          "text": [
            "i\n"
          ]
        }
      ],
      "source": [
        "\n",
        "#To find a character in string\n",
        "a=\"racing\"\n",
        "print(a[3])"
      ]
    },
    {
      "cell_type": "code",
      "source": [
        "#Loop through a character in a string\n",
        "#using \"for\"\n",
        "\n",
        "a='miniature'\n",
        "b='looping'\n",
        "for x  in \"looping\":\n",
        " print(x)"
      ],
      "metadata": {
        "colab": {
          "base_uri": "https://localhost:8080/"
        },
        "id": "wCkDYYELvjHD",
        "outputId": "8fa46a3c-84b8-416a-dc78-36252e8603e8"
      },
      "execution_count": 16,
      "outputs": [
        {
          "output_type": "stream",
          "name": "stdout",
          "text": [
            "l\n",
            "o\n",
            "o\n",
            "p\n",
            "i\n",
            "n\n",
            "g\n"
          ]
        }
      ]
    },
    {
      "cell_type": "code",
      "source": [
        "#check string using 'in' keyword\n",
        "txt=\"there is no limit\"\n",
        "print('limit' in txt)"
      ],
      "metadata": {
        "colab": {
          "base_uri": "https://localhost:8080/"
        },
        "id": "Zbdy8PIpxDK2",
        "outputId": "2045784d-6910-4444-d03f-d4172d8eaebe"
      },
      "execution_count": 18,
      "outputs": [
        {
          "output_type": "stream",
          "name": "stdout",
          "text": [
            "True\n"
          ]
        }
      ]
    },
    {
      "cell_type": "code",
      "source": [
        "#use it in an if statement\n",
        "txt=\"im optimus prime\"\n",
        "if \"prime\"in txt:\n",
        " print('yes',\"it is present\")"
      ],
      "metadata": {
        "colab": {
          "base_uri": "https://localhost:8080/"
        },
        "id": "N-oMjXKQ05EQ",
        "outputId": "260d6c6c-b403-495e-b44d-393df9a7e032"
      },
      "execution_count": 25,
      "outputs": [
        {
          "output_type": "stream",
          "name": "stdout",
          "text": [
            "yes it is present\n"
          ]
        }
      ]
    },
    {
      "cell_type": "code",
      "source": [
        "txt=\"im optimus prime\"\n",
        "if \"prime\"in txt:\n",
        " print('yes',\"it is present\")\n",
        "else:\n",
        "  print('nope')"
      ],
      "metadata": {
        "colab": {
          "base_uri": "https://localhost:8080/"
        },
        "id": "IpA9C-FW1u-F",
        "outputId": "fb98a320-5bc1-46cb-aa5b-574103bc6688"
      },
      "execution_count": 26,
      "outputs": [
        {
          "output_type": "stream",
          "name": "stdout",
          "text": [
            "yes it is present\n"
          ]
        }
      ]
    },
    {
      "cell_type": "code",
      "source": [
        "#finding if not\n",
        "txt= \"there is a limit\"\n",
        "print('expensive'not in txt)"
      ],
      "metadata": {
        "colab": {
          "base_uri": "https://localhost:8080/"
        },
        "id": "yjThEMCl2BiN",
        "outputId": "1058af6f-ee5e-4377-b2ac-f1cf06641403"
      },
      "execution_count": 27,
      "outputs": [
        {
          "output_type": "stream",
          "name": "stdout",
          "text": [
            "True\n"
          ]
        }
      ]
    },
    {
      "cell_type": "code",
      "source": [
        "#using if not\n",
        "txt=\"there is a limit\"\n",
        "if 'expensive' not in txt:\n",
        "  print('yup'' it is not here')"
      ],
      "metadata": {
        "colab": {
          "base_uri": "https://localhost:8080/"
        },
        "id": "wMeEveDG2UOX",
        "outputId": "15a35348-7cf6-473f-f830-a1ecdeb83370"
      },
      "execution_count": 32,
      "outputs": [
        {
          "output_type": "stream",
          "name": "stdout",
          "text": [
            "yup it is not here\n"
          ]
        }
      ]
    },
    {
      "cell_type": "code",
      "source": [
        "#slicing string\n",
        "#slice from the start\n",
        "x=\"sonyxperia\"\n",
        "print(x[:6]) #first character is 0"
      ],
      "metadata": {
        "colab": {
          "base_uri": "https://localhost:8080/"
        },
        "id": "64b5zo7f3V5P",
        "outputId": "4d7e9c8c-3004-469b-9ca2-ed538edbfb52"
      },
      "execution_count": 35,
      "outputs": [
        {
          "output_type": "stream",
          "name": "stdout",
          "text": [
            "sonyxp\n"
          ]
        }
      ]
    },
    {
      "cell_type": "code",
      "source": [
        "#slice to the end\n",
        "x=\"sonyxperia\"\n",
        "print(x[2:])"
      ],
      "metadata": {
        "colab": {
          "base_uri": "https://localhost:8080/"
        },
        "id": "sVorrxJa4CCC",
        "outputId": "16c280bd-7f81-4bba-e49b-d094e8191c6d"
      },
      "execution_count": 36,
      "outputs": [
        {
          "output_type": "stream",
          "name": "stdout",
          "text": [
            "nyxperia\n"
          ]
        }
      ]
    },
    {
      "cell_type": "code",
      "source": [
        "#negative indexing\n",
        "x=\"sony xperia!\"\n",
        "print(x[-2:-7])"
      ],
      "metadata": {
        "colab": {
          "base_uri": "https://localhost:8080/"
        },
        "id": "76-pp2Ci4gNZ",
        "outputId": "48b93e62-9240-4c55-ead5-60f544fc8cc2"
      },
      "execution_count": 55,
      "outputs": [
        {
          "output_type": "stream",
          "name": "stdout",
          "text": [
            "\n"
          ]
        }
      ]
    },
    {
      "cell_type": "code",
      "source": [
        "#modify stirngs\n",
        "#upper case\n",
        "x=\"harrypotter\"\n",
        "print(x.upper())"
      ],
      "metadata": {
        "colab": {
          "base_uri": "https://localhost:8080/"
        },
        "id": "CrlHfgIn5QzY",
        "outputId": "a29a58f7-cbc0-4a47-a3b4-b747ebab2700"
      },
      "execution_count": 56,
      "outputs": [
        {
          "output_type": "stream",
          "name": "stdout",
          "text": [
            "HARRYPOTTER\n"
          ]
        }
      ]
    },
    {
      "cell_type": "code",
      "source": [
        "#lower case\n",
        "x=\"HARRYPOTTER\"\n",
        "print(x.lower())"
      ],
      "metadata": {
        "colab": {
          "base_uri": "https://localhost:8080/"
        },
        "id": "DfJQXxiU5ugY",
        "outputId": "b7139ef1-17f2-4848-a663-f98a00a1a536"
      },
      "execution_count": 57,
      "outputs": [
        {
          "output_type": "stream",
          "name": "stdout",
          "text": [
            "harrypotter\n"
          ]
        }
      ]
    },
    {
      "cell_type": "code",
      "source": [
        "#remove space\n",
        "x=\" HARRY POTTER! \"\n",
        "print(x.strip())"
      ],
      "metadata": {
        "colab": {
          "base_uri": "https://localhost:8080/"
        },
        "id": "q0VpLKk55_DI",
        "outputId": "19b4f568-923b-4d8f-e9d2-e2be6432b372"
      },
      "execution_count": 60,
      "outputs": [
        {
          "output_type": "stream",
          "name": "stdout",
          "text": [
            "HARRY POTTER!\n"
          ]
        }
      ]
    },
    {
      "cell_type": "code",
      "source": [
        "#replace a string\n",
        "x='harri potter'\n",
        "print(x.replace('i','y'))"
      ],
      "metadata": {
        "colab": {
          "base_uri": "https://localhost:8080/"
        },
        "id": "Itf2Z4lv6iQV",
        "outputId": "0f75f0a9-265c-4a78-ace9-2c907664bb59"
      },
      "execution_count": 64,
      "outputs": [
        {
          "output_type": "stream",
          "name": "stdout",
          "text": [
            "harry potter\n"
          ]
        }
      ]
    },
    {
      "cell_type": "code",
      "source": [
        "#split string\n",
        "x= \"harry,potter!\"\n",
        "print(x.split(\",\"))"
      ],
      "metadata": {
        "colab": {
          "base_uri": "https://localhost:8080/"
        },
        "id": "3hCo5hUn7MJg",
        "outputId": "23cd05e5-9258-4efd-9763-0d419201b336"
      },
      "execution_count": 69,
      "outputs": [
        {
          "output_type": "stream",
          "name": "stdout",
          "text": [
            "['harry', 'potter!']\n"
          ]
        }
      ]
    },
    {
      "cell_type": "code",
      "source": [
        "#string concatenate\n",
        "#concatenate using + opeator\n",
        "x='minimal'\n",
        "y='maximal'\n",
        "print(x+\" \"+y)"
      ],
      "metadata": {
        "colab": {
          "base_uri": "https://localhost:8080/"
        },
        "id": "HRWKuqvF7ycY",
        "outputId": "ec91ccb8-e5b9-49a7-ff7e-0a35fc23920c"
      },
      "execution_count": 73,
      "outputs": [
        {
          "output_type": "stream",
          "name": "stdout",
          "text": [
            "minimal maximal\n"
          ]
        }
      ]
    },
    {
      "cell_type": "code",
      "source": [
        "x='minimal'\n",
        "y='maximal'\n",
        "z=x+y\n",
        "print(z)\n"
      ],
      "metadata": {
        "colab": {
          "base_uri": "https://localhost:8080/"
        },
        "id": "46kqqtlD8f2Q",
        "outputId": "31143fa9-b4a4-42eb-f024-1f3de7b91172"
      },
      "execution_count": 74,
      "outputs": [
        {
          "output_type": "stream",
          "name": "stdout",
          "text": [
            "minimalmaximal\n"
          ]
        }
      ]
    },
    {
      "cell_type": "code",
      "source": [
        "#format strings\n",
        "#we can combine strings and nums using f string and {}\n",
        "x=9\n",
        "y=\"he is 'x' std\"\n",
        "z=f\"he is {x}th std\"\n",
        "print(z)"
      ],
      "metadata": {
        "colab": {
          "base_uri": "https://localhost:8080/"
        },
        "id": "7AXl37nA84Jy",
        "outputId": "ba2cb6f7-ef14-461d-dbab-11979de78606"
      },
      "execution_count": 81,
      "outputs": [
        {
          "output_type": "stream",
          "name": "stdout",
          "text": [
            "he is 9th std\n"
          ]
        }
      ]
    },
    {
      "cell_type": "code",
      "source": [
        "#placeholders and modifiers\n",
        "x='10'\n",
        "y=f\"value of the toy is {x}\"\n",
        "print(y)"
      ],
      "metadata": {
        "colab": {
          "base_uri": "https://localhost:8080/"
        },
        "id": "lqE7TZaL9-Az",
        "outputId": "46e821e1-176f-4979-9a73-4c39986bc213"
      },
      "execution_count": 83,
      "outputs": [
        {
          "output_type": "stream",
          "name": "stdout",
          "text": [
            "value of the toy is 10\n"
          ]
        }
      ]
    },
    {
      "cell_type": "code",
      "source": [
        "#using colon : and .2f\n",
        "x= 10\n",
        "y= f\"value of the toy is {x:.2f}\"\n",
        "print(y)"
      ],
      "metadata": {
        "colab": {
          "base_uri": "https://localhost:8080/"
        },
        "id": "S5wy69Jm-rvM",
        "outputId": "ad1d69a4-fe4d-495e-8c7a-385e3d7b6925"
      },
      "execution_count": 93,
      "outputs": [
        {
          "output_type": "stream",
          "name": "stdout",
          "text": [
            "value of the toy is 10.00\n"
          ]
        }
      ]
    },
    {
      "cell_type": "code",
      "source": [
        "#escape character\n",
        "#using\\,to get double quoted inside the double quoted  string\n",
        "txt=\"we are \\\"hero's\\\" of the world\"\n",
        "print(txt)"
      ],
      "metadata": {
        "colab": {
          "base_uri": "https://localhost:8080/"
        },
        "id": "73kQ_82aAgvW",
        "outputId": "d5609da0-1c65-4b31-f100-9f7cdec6f395"
      },
      "execution_count": 95,
      "outputs": [
        {
          "output_type": "stream",
          "name": "stdout",
          "text": [
            "we are \"hero's\" of the world\n"
          ]
        }
      ]
    }
  ]
}