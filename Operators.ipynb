{
  "nbformat": 4,
  "nbformat_minor": 0,
  "metadata": {
    "colab": {
      "provenance": [],
      "authorship_tag": "ABX9TyPG3vRgEcByhhwmG6vw0rj+",
      "include_colab_link": true
    },
    "kernelspec": {
      "name": "python3",
      "display_name": "Python 3"
    },
    "language_info": {
      "name": "python"
    }
  },
  "cells": [
    {
      "cell_type": "markdown",
      "metadata": {
        "id": "view-in-github",
        "colab_type": "text"
      },
      "source": [
        "<a href=\"https://colab.research.google.com/github/I-Git5G/python-learnings/blob/main/Operators.ipynb\" target=\"_parent\"><img src=\"https://colab.research.google.com/assets/colab-badge.svg\" alt=\"Open In Colab\"/></a>"
      ]
    },
    {
      "cell_type": "code",
      "source": [
        "#using and operator\n",
        "\n",
        "x=12\n",
        "if x % 2==0 and x > 10:\n",
        "  print(\"The number is even and greater than 10\")\n",
        "else:\n",
        "  print(\"The number is not even or greater than 10\")"
      ],
      "metadata": {
        "colab": {
          "base_uri": "https://localhost:8080/"
        },
        "id": "5DzEYbjlFyqq",
        "outputId": "b5da26fc-1f8e-4b75-e643-2bb35a9311b8"
      },
      "execution_count": 7,
      "outputs": [
        {
          "output_type": "stream",
          "name": "stdout",
          "text": [
            "The number is even and greater than 10\n"
          ]
        }
      ]
    },
    {
      "cell_type": "code",
      "source": [
        "#using and operator\n",
        "password =input(\"Password123\")\n",
        "if \"len>=8\" and any(char.isupper() for char in password)and any(char.isdigit() for char in password):\n",
        " print(\"Password is valid\")\n",
        "else:\n",
        " print(\"invalid\")"
      ],
      "metadata": {
        "colab": {
          "base_uri": "https://localhost:8080/"
        },
        "id": "_cZy4M6YLkNC",
        "outputId": "1f89257d-6fb7-4797-bf52-308b8c6a6819"
      },
      "execution_count": 73,
      "outputs": [
        {
          "output_type": "stream",
          "name": "stdout",
          "text": [
            "Password123pass\n",
            "invalid\n"
          ]
        }
      ]
    },
    {
      "cell_type": "code",
      "source": [
        "#using or operator\n",
        "x=3\n",
        "if x<5 or x>20:\n",
        "  print(\"The number is less than 5 or greater than 20\")\n",
        "else:\n",
        "  print(\"The number is between 5 and 20\")"
      ],
      "metadata": {
        "colab": {
          "base_uri": "https://localhost:8080/"
        },
        "id": "C5i1_zhrHpTh",
        "outputId": "6b376a81-80f5-4625-8033-eac1f1de786f"
      },
      "execution_count": 16,
      "outputs": [
        {
          "output_type": "stream",
          "name": "stdout",
          "text": [
            "The number is less than 5 or greater than 20\n"
          ]
        }
      ]
    },
    {
      "cell_type": "code",
      "source": [
        "#using not operator\n",
        "x=90\n",
        "print(not(\"x>2 !=0\"))\n"
      ],
      "metadata": {
        "colab": {
          "base_uri": "https://localhost:8080/"
        },
        "id": "EGJ5QaUEIeb2",
        "outputId": "30d07445-aa33-4a1f-fc17-5a612ec895e2"
      },
      "execution_count": 41,
      "outputs": [
        {
          "output_type": "stream",
          "name": "stdout",
          "text": [
            "False\n"
          ]
        }
      ]
    },
    {
      "cell_type": "code",
      "source": [
        "#using or operator\n",
        "password =input(\"Password123\")\n",
        "if not (\"len>=8\") or not any(char.isupper() for char in password) or not any(char.isdigit() for char in password):\n",
        " print(\"Password is valid\")\n",
        "else:\n",
        " print(\"invalid\")\n"
      ],
      "metadata": {
        "colab": {
          "base_uri": "https://localhost:8080/"
        },
        "id": "IzXsnhnfRBr6",
        "outputId": "762d42c3-57ce-4124-8889-eebc716a1379"
      },
      "execution_count": 78,
      "outputs": [
        {
          "output_type": "stream",
          "name": "stdout",
          "text": [
            "Password123password\n",
            "Password is valid\n"
          ]
        }
      ]
    }
  ]
}