{
  "nbformat": 4,
  "nbformat_minor": 0,
  "metadata": {
    "colab": {
      "provenance": [],
      "authorship_tag": "ABX9TyNgYolDrPy5oFDtohhph2P1",
      "include_colab_link": true
    },
    "kernelspec": {
      "name": "python3",
      "display_name": "Python 3"
    },
    "language_info": {
      "name": "python"
    }
  },
  "cells": [
    {
      "cell_type": "markdown",
      "metadata": {
        "id": "view-in-github",
        "colab_type": "text"
      },
      "source": [
        "<a href=\"https://colab.research.google.com/github/I-Git5G/python-learnings/blob/main/modules.ipynb\" target=\"_parent\"><img src=\"https://colab.research.google.com/assets/colab-badge.svg\" alt=\"Open In Colab\"/></a>"
      ]
    },
    {
      "cell_type": "code",
      "execution_count": 26,
      "metadata": {
        "colab": {
          "base_uri": "https://localhost:8080/"
        },
        "id": "zo754PvZ0Ek_",
        "outputId": "aa28b001-bc38-4d25-89ad-53249c8a4310"
      },
      "outputs": [
        {
          "output_type": "stream",
          "name": "stdout",
          "text": [
            "7.0\n",
            "the random no: 46\n"
          ]
        }
      ],
      "source": [
        "#Import the math module and calculate the square root of 49.\n",
        "#Use the random module to generate a random number between 1 and 100.\n",
        "import math\n",
        "x=math.sqrt(49)\n",
        "print(x)\n",
        "import random\n",
        "y=random.randint(1,100)\n",
        "print(\"the random no:\",y)\n"
      ]
    },
    {
      "cell_type": "code",
      "source": [
        "#mport the datetime module and print the current date and time.\n",
        "#Display the current year using datetime.\n",
        "\n",
        "import datetime\n",
        "x= datetime.datetime.now()\n",
        "print(x)\n",
        "print(x.year)"
      ],
      "metadata": {
        "colab": {
          "base_uri": "https://localhost:8080/"
        },
        "id": "m-TUWy8O3Esl",
        "outputId": "a980fa94-b3b8-46e2-948a-ba74826e7e30"
      },
      "execution_count": 32,
      "outputs": [
        {
          "output_type": "stream",
          "name": "stdout",
          "text": [
            "2025-04-05 07:43:13.016790\n",
            "2025\n"
          ]
        }
      ]
    },
    {
      "cell_type": "code",
      "source": [],
      "metadata": {
        "id": "fWJqhchf6LnK"
      },
      "execution_count": null,
      "outputs": []
    }
  ]
}