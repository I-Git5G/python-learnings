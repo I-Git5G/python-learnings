{
  "nbformat": 4,
  "nbformat_minor": 0,
  "metadata": {
    "colab": {
      "provenance": [],
      "authorship_tag": "ABX9TyOvMXctfvG2SNO3zVFBnyri",
      "include_colab_link": true
    },
    "kernelspec": {
      "name": "python3",
      "display_name": "Python 3"
    },
    "language_info": {
      "name": "python"
    }
  },
  "cells": [
    {
      "cell_type": "markdown",
      "metadata": {
        "id": "view-in-github",
        "colab_type": "text"
      },
      "source": [
        "<a href=\"https://colab.research.google.com/github/I-Git5G/python-learnings/blob/main/Basics.ipynb\" target=\"_parent\"><img src=\"https://colab.research.google.com/assets/colab-badge.svg\" alt=\"Open In Colab\"/></a>"
      ]
    },
    {
      "cell_type": "code",
      "execution_count": 1,
      "metadata": {
        "colab": {
          "base_uri": "https://localhost:8080/"
        },
        "id": "RMdOPu8gGMNo",
        "outputId": "6272f339-4a46-4169-a3a5-46f072d58d5d"
      },
      "outputs": [
        {
          "output_type": "stream",
          "name": "stdout",
          "text": [
            "hello world!\n"
          ]
        }
      ],
      "source": [
        "print(\"hello world!\")"
      ]
    },
    {
      "cell_type": "code",
      "source": [
        "#To check python version\n",
        "import sys\n",
        "print(sys.version)"
      ],
      "metadata": {
        "colab": {
          "base_uri": "https://localhost:8080/"
        },
        "id": "glwa2ubPLv0n",
        "outputId": "bd07bfb9-f7fa-4b49-caf4-29e653f3256c"
      },
      "execution_count": 4,
      "outputs": [
        {
          "output_type": "stream",
          "name": "stdout",
          "text": [
            "3.11.11 (main, Dec  4 2024, 08:55:07) [GCC 11.4.0]\n"
          ]
        }
      ]
    },
    {
      "cell_type": "code",
      "source": [
        "#python variables\n",
        "#To get the data types using type() function:\n",
        "x=4\n",
        "y=\"car\"\n",
        "z=10.0\n",
        "print(type(x))\n",
        "print(type(y))\n",
        "print(type(z))"
      ],
      "metadata": {
        "colab": {
          "base_uri": "https://localhost:8080/"
        },
        "id": "jwWwUPvWMRQI",
        "outputId": "11e5e610-7205-4b3c-fbe7-6878acb32a54"
      },
      "execution_count": 6,
      "outputs": [
        {
          "output_type": "stream",
          "name": "stdout",
          "text": [
            "<class 'int'>\n",
            "<class 'str'>\n",
            "<class 'float'>\n"
          ]
        }
      ]
    },
    {
      "cell_type": "code",
      "source": [
        "#specifiying variables\n",
        "#using int,float,str\n",
        "x=4.0\n",
        "y=\"car\"\n",
        "z=10\n",
        "print(int(x))\n",
        "print(str(y))\n",
        "print(float(z))"
      ],
      "metadata": {
        "colab": {
          "base_uri": "https://localhost:8080/"
        },
        "id": "wITEHpnaOPlB",
        "outputId": "3d7ac112-ced8-46ec-a738-1aa041852388"
      },
      "execution_count": 9,
      "outputs": [
        {
          "output_type": "stream",
          "name": "stdout",
          "text": [
            "4\n",
            "car\n",
            "10.0\n"
          ]
        }
      ]
    },
    {
      "cell_type": "code",
      "source": [
        "#assigning multiple values to multiple variable:\n",
        "x,y,z=(\"mustang\",\"benz\",\"bmw\")\n",
        "print(x)\n",
        "print(y)\n",
        "print(z)\n"
      ],
      "metadata": {
        "colab": {
          "base_uri": "https://localhost:8080/"
        },
        "id": "iz97ZjcsO9XQ",
        "outputId": "5b533ac1-adf2-430a-efb7-c37022ba7769"
      },
      "execution_count": 11,
      "outputs": [
        {
          "output_type": "stream",
          "name": "stdout",
          "text": [
            "mustang\n",
            "benz\n",
            "bmw\n"
          ]
        }
      ]
    },
    {
      "cell_type": "code",
      "source": [
        "#one value to multiple variable\n",
        "x=y=z=\"prototype\"\n",
        "print(x,y,z)"
      ],
      "metadata": {
        "colab": {
          "base_uri": "https://localhost:8080/"
        },
        "id": "zv80xcgDRedJ",
        "outputId": "a8269e11-9885-4ffb-aeb5-7788eb6f21c9"
      },
      "execution_count": 13,
      "outputs": [
        {
          "output_type": "stream",
          "name": "stdout",
          "text": [
            "prototype prototype prototype\n"
          ]
        }
      ]
    },
    {
      "cell_type": "code",
      "source": [
        "#unpack a list\n",
        "education=[\"college\",\"university\",\"school\"]\n",
        "education = x,y,z\n",
        "print(x)\n",
        "print(y)\n",
        "print(z)\n"
      ],
      "metadata": {
        "colab": {
          "base_uri": "https://localhost:8080/"
        },
        "id": "cjv_F5-PR6wu",
        "outputId": "8bfab5e5-e322-407f-825f-cad5a88c14da"
      },
      "execution_count": 28,
      "outputs": [
        {
          "output_type": "stream",
          "name": "stdout",
          "text": [
            "college\n",
            "university\n",
            "school\n"
          ]
        }
      ]
    },
    {
      "cell_type": "code",
      "source": [
        "#global variable\n",
        "#create variable outside the function and use it inside:\n",
        "x = \"mario\"\n",
        "\n",
        "def myfunc():\n",
        "  print(\"super\" + x)\n",
        "\n",
        "myfunc()\n",
        "\n"
      ],
      "metadata": {
        "colab": {
          "base_uri": "https://localhost:8080/"
        },
        "id": "13WUJPGCUHrD",
        "outputId": "143454c9-f02a-4fc4-d1a8-25c831b4be5a"
      },
      "execution_count": 53,
      "outputs": [
        {
          "output_type": "stream",
          "name": "stdout",
          "text": [
            "supermario\n"
          ]
        }
      ]
    },
    {
      "cell_type": "code",
      "source": [
        "#Create a variable inside a function, with the same name as the global variable\n",
        "x=\"mario\"\n",
        "\n",
        "def myfunc():\n",
        " x = \"fast\"\n",
        " print(\"super\" + x)\n",
        "\n",
        "myfunc()\n",
        "\n",
        "print(\"super\" + x)\n",
        "exit()\n",
        "\n"
      ],
      "metadata": {
        "colab": {
          "base_uri": "https://localhost:8080/"
        },
        "id": "Ww_mFvOKWp_0",
        "outputId": "7f5abb6e-e5ea-4067-80e9-d72b9ca0a325"
      },
      "execution_count": 67,
      "outputs": [
        {
          "output_type": "stream",
          "name": "stdout",
          "text": [
            "superfast\n",
            "supermario\n"
          ]
        }
      ]
    },
    {
      "cell_type": "code",
      "source": [
        "#using global keyword:\n",
        "#using variable inside function is local but by using global keyword it becomes global\n",
        "def myfunc():\n",
        " global x\n",
        " x = \" lexus \"\n",
        "\n",
        "myfunc()\n",
        "print(\"that is \" + x)\n",
        "\n"
      ],
      "metadata": {
        "colab": {
          "base_uri": "https://localhost:8080/"
        },
        "id": "o5qZItrjX3SR",
        "outputId": "5b8a4da9-7fbe-4a60-acb2-2c9ed609f9bd"
      },
      "execution_count": 3,
      "outputs": [
        {
          "output_type": "stream",
          "name": "stdout",
          "text": [
            "that is  lexus \n"
          ]
        }
      ]
    },
    {
      "cell_type": "code",
      "source": [],
      "metadata": {
        "id": "ogReVn9dSKel"
      },
      "execution_count": null,
      "outputs": []
    }
  ]
}