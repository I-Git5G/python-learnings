{
  "nbformat": 4,
  "nbformat_minor": 0,
  "metadata": {
    "colab": {
      "provenance": [],
      "authorship_tag": "ABX9TyOAUyBCz2KpLcmB3Fo0V3w2",
      "include_colab_link": true
    },
    "kernelspec": {
      "name": "python3",
      "display_name": "Python 3"
    },
    "language_info": {
      "name": "python"
    }
  },
  "cells": [
    {
      "cell_type": "markdown",
      "metadata": {
        "id": "view-in-github",
        "colab_type": "text"
      },
      "source": [
        "<a href=\"https://colab.research.google.com/github/I-Git5G/python-learnings/blob/main/dictionaries.ipynb\" target=\"_parent\"><img src=\"https://colab.research.google.com/assets/colab-badge.svg\" alt=\"Open In Colab\"/></a>"
      ]
    },
    {
      "cell_type": "code",
      "execution_count": null,
      "metadata": {
        "colab": {
          "base_uri": "https://localhost:8080/"
        },
        "id": "YMqK7J08pWis",
        "outputId": "13b55ee9-9f92-4da1-9b7d-4402c55a7f41"
      },
      "outputs": [
        {
          "output_type": "stream",
          "name": "stdout",
          "text": [
            "{'brand': 'Ford', 'model': 'Mustang', 'year': 1964}\n"
          ]
        }
      ],
      "source": [
        "#key()\n",
        "thisdict = {\n",
        "  \"brand\": \"Ford\",\n",
        "  \"model\": \"Mustang\",\n",
        "  \"year\": 1964\n",
        "}\n",
        "\n",
        "x=thisdict.keys()\n",
        "print(thisdict)"
      ]
    },
    {
      "cell_type": "code",
      "source": [
        "#to add in a dict or change in a dict\n",
        "vehicle = {\n",
        "  \"brand\": \"Ford\",\n",
        "  \"model\": \"Mustang\",\n",
        "  \"year\": 1964\n",
        "}\n",
        "vehicle.update({\"color\":\"red\"})\n",
        "\n",
        "print(vehicle)\n"
      ],
      "metadata": {
        "colab": {
          "base_uri": "https://localhost:8080/"
        },
        "id": "aXsf_79Fp9xB",
        "outputId": "52b0dfae-fc1a-4944-96df-1ab83c9ccbe0"
      },
      "execution_count": null,
      "outputs": [
        {
          "output_type": "stream",
          "name": "stdout",
          "text": [
            "{'brand': 'Ford', 'model': 'Mustang', 'year': 1964, 'color': 'red'}\n"
          ]
        }
      ]
    },
    {
      "cell_type": "code",
      "source": [
        "#to change existing values\n",
        "vehicle = {\n",
        "  \"brand\": \"Ford\",\n",
        "  \"model\": \"Mustang\",\n",
        "  \"year\": 1964\n",
        "}\n",
        "vehicle[\"year\"]='2010'\n",
        "print(vehicle)\n"
      ],
      "metadata": {
        "colab": {
          "base_uri": "https://localhost:8080/"
        },
        "id": "R7hFh9dEsOdr",
        "outputId": "325d7ccb-44ed-4d00-a7d4-4b3d873ed450"
      },
      "execution_count": null,
      "outputs": [
        {
          "output_type": "stream",
          "name": "stdout",
          "text": [
            "{'brand': 'Ford', 'model': 'Mustang', 'year': '2010'}\n"
          ]
        }
      ]
    },
    {
      "cell_type": "code",
      "source": [
        "#nested dictionaries\n",
        "\n",
        "student1={\n",
        "    \"name\":\"alex\",\n",
        "    \"age\"      :\"15\",\n",
        "    \"marks\"    :\"95%\"\n",
        "    }\n",
        "student2={\n",
        "    \"name\" :\"mary\",\n",
        "    \"age\"       :\"14\",\n",
        "    \"marks\"     :\"85%\"\n",
        "    }\n",
        "student3={\n",
        "     \"name\":\"rajini\",\n",
        "      \"age\"    :\"16\",\n",
        "      \"marks\"  :\"75%\"\n",
        "    }\n",
        "\n",
        "\n",
        "myschool ={\n",
        "    \"student1\" : student1,\n",
        "    \"student2\" : student2,\n",
        "    \"student3\" : student3,\n",
        "    }\n",
        "print(myschool)"
      ],
      "metadata": {
        "colab": {
          "base_uri": "https://localhost:8080/"
        },
        "id": "f3RSFzyTz7w_",
        "outputId": "502a7e67-0212-46a6-ce55-717bc421369b"
      },
      "execution_count": 34,
      "outputs": [
        {
          "output_type": "stream",
          "name": "stdout",
          "text": [
            "{'student1': {'name': 'alex', 'age': '15', 'marks': '95%'}, 'student2': {'name': 'mary', 'age': '14', 'marks': '85%'}, 'student3': {'name': 'rajini', 'age': '16', 'marks': '75%'}}\n"
          ]
        }
      ]
    }
  ]
}