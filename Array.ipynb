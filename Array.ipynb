{
  "nbformat": 4,
  "nbformat_minor": 0,
  "metadata": {
    "colab": {
      "provenance": [],
      "authorship_tag": "ABX9TyNZ6yiyr2AAv3X2D3/l7hZD",
      "include_colab_link": true
    },
    "kernelspec": {
      "name": "python3",
      "display_name": "Python 3"
    },
    "language_info": {
      "name": "python"
    }
  },
  "cells": [
    {
      "cell_type": "markdown",
      "metadata": {
        "id": "view-in-github",
        "colab_type": "text"
      },
      "source": [
        "<a href=\"https://colab.research.google.com/github/I-Git5G/python-learnings/blob/main/Array.ipynb\" target=\"_parent\"><img src=\"https://colab.research.google.com/assets/colab-badge.svg\" alt=\"Open In Colab\"/></a>"
      ]
    },
    {
      "cell_type": "code",
      "execution_count": 5,
      "metadata": {
        "colab": {
          "base_uri": "https://localhost:8080/"
        },
        "id": "emf2NZh_mGB3",
        "outputId": "e7acf2cf-e38e-4106-c867-d67f5ef9e557"
      },
      "outputs": [
        {
          "output_type": "stream",
          "name": "stdout",
          "text": [
            "1\n",
            "2\n",
            "3\n",
            "4\n",
            "5\n"
          ]
        }
      ],
      "source": [
        "#Declare an array of integers with the values [1, 2, 3, 4, 5].\n",
        "\n",
        "#Print all the elements in the array.\n",
        "\n",
        "array=[1,2,3,4,5]\n",
        "\n",
        "for x in  array:\n",
        "  print(x)\n"
      ]
    },
    {
      "cell_type": "code",
      "source": [
        "#Given an array [10, 20, 30, 40, 50], print the first and last elements.\n",
        "\n",
        "array=[10, 20, 30, 40, 50]\n",
        "\n",
        "print(array[0])\n",
        "print(array[-1])"
      ],
      "metadata": {
        "colab": {
          "base_uri": "https://localhost:8080/"
        },
        "id": "Q6LdXJKHnW6Q",
        "outputId": "3a26d88e-b807-4148-b994-ba70cb1ea3f5"
      },
      "execution_count": 8,
      "outputs": [
        {
          "output_type": "stream",
          "name": "stdout",
          "text": [
            "10\n",
            "50\n"
          ]
        }
      ]
    },
    {
      "cell_type": "code",
      "source": [
        "#Write a function to find the maximum and minimum numbers in an array [23, 45, 12, 67, 34]\n",
        "array=[23, 45, 12, 67, 34]\n",
        "x=min(23, 45, 12, 67, 34)\n",
        "y=max(23, 45, 12, 67, 34)\n",
        "print(x)\n",
        "print(y)"
      ],
      "metadata": {
        "colab": {
          "base_uri": "https://localhost:8080/"
        },
        "id": "qrTPVbzkoZwJ",
        "outputId": "09c2ace2-50bb-4b60-ce63-75f041f74da8"
      },
      "execution_count": 9,
      "outputs": [
        {
          "output_type": "stream",
          "name": "stdout",
          "text": [
            "12\n",
            "67\n"
          ]
        }
      ]
    },
    {
      "cell_type": "code",
      "source": [
        "#Change the second element of the array [5, 15, 25, 35] to 100\n",
        "\n",
        "array=[5,15,25,35]\n",
        "array.insert(1,100)\n",
        "print(array)"
      ],
      "metadata": {
        "colab": {
          "base_uri": "https://localhost:8080/"
        },
        "id": "GfoI4Yt8rUEN",
        "outputId": "908b9cf8-a1c0-4321-bc4e-9bbe6d66e42b"
      },
      "execution_count": 18,
      "outputs": [
        {
          "output_type": "stream",
          "name": "stdout",
          "text": [
            "[5, 100, 15, 25, 35]\n"
          ]
        }
      ]
    },
    {
      "cell_type": "code",
      "source": [
        "#calculate the sum and average of the array [8, 16, 24, 32, 40]\n",
        "array=[8, 16, 24, 32, 40]\n",
        "x=total_sum=sum(array)\n",
        "y=average=total_sum/len(array)\n",
        "print(x)\n",
        "print(y)"
      ],
      "metadata": {
        "colab": {
          "base_uri": "https://localhost:8080/"
        },
        "id": "hiGboUPutFAJ",
        "outputId": "12fa2e8c-fabb-47e5-e0ef-a8974b1cc2c9"
      },
      "execution_count": 23,
      "outputs": [
        {
          "output_type": "stream",
          "name": "stdout",
          "text": [
            "120\n",
            "24.0\n"
          ]
        }
      ]
    }
  ]
}