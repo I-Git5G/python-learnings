{
  "nbformat": 4,
  "nbformat_minor": 0,
  "metadata": {
    "colab": {
      "provenance": [],
      "authorship_tag": "ABX9TyMcmfLpFOAdmcVb72RC33bN",
      "include_colab_link": true
    },
    "kernelspec": {
      "name": "python3",
      "display_name": "Python 3"
    },
    "language_info": {
      "name": "python"
    }
  },
  "cells": [
    {
      "cell_type": "markdown",
      "metadata": {
        "id": "view-in-github",
        "colab_type": "text"
      },
      "source": [
        "<a href=\"https://colab.research.google.com/github/I-Git5G/python-learnings/blob/main/classes_and_objects.ipynb\" target=\"_parent\"><img src=\"https://colab.research.google.com/assets/colab-badge.svg\" alt=\"Open In Colab\"/></a>"
      ]
    },
    {
      "cell_type": "code",
      "source": [
        "class Car:\n",
        "    def __init__(self, make, model, year, mileage):\n",
        "        self.make = make\n",
        "        self.model = model\n",
        "        self.year = year\n",
        "        self.mileage = mileage\n",
        "\n",
        "    def drive(self, distance):\n",
        "        self.mileage += distance\n",
        "\n",
        "    def car_info(self):\n",
        "        print(f\"This car is a {self.year} {self.make} {self.model} with {self.mileage} km mileage.\")\n",
        "\n",
        "car = Car(\"Toyota\", \"Corolla\", 2020, 15000)\n",
        "car.car_info()  # Output: This car is a 2020 Toyota Corolla with 15000 km mileage.\n",
        "car.drive(500)\n",
        "car.car_info()"
      ],
      "metadata": {
        "colab": {
          "base_uri": "https://localhost:8080/"
        },
        "id": "N61-8EI2PjEN",
        "outputId": "723424c5-dcd0-402a-9bca-a937b36ac5f5"
      },
      "execution_count": 15,
      "outputs": [
        {
          "output_type": "stream",
          "name": "stdout",
          "text": [
            "This car is a 2020 Toyota Corolla with 15000 km mileage.\n",
            "This car is a 2020 Toyota Corolla with 15500 km mileage.\n"
          ]
        }
      ]
    },
    {
      "cell_type": "code",
      "source": [
        "#Create a Book class to represent a book in a library with the following:\n",
        "#Attributes:\n",
        "#title (string) – the title of the book\n",
        "#author (string) – the author of the book\n",
        "#isbn (string) – the ISBN number of the book\n",
        "#is_borrowed (boolean) – whether the book is borrowed or not\n",
        "#Methods:\n",
        "#__init__: Initialize the title, author, isbn, and is_borrowed to False.\n",
        "#borrow: Change the is_borrowed attribute to True.\n",
        "#return_book: Change the is_borrowed attribute to False.\n",
        "#book_info: Print the details of the book.\n",
        "\n",
        "def __int__(self,title,author,isbn):\n",
        " self.title=title\n",
        " self.author=author\n",
        " self.isbn=isbn\n",
        " self.is_borrowed=False\n",
        "def is_borrowed(self,true):\n",
        " self.is_borrowed=True\n",
        "def is_borrowed(self,false):\n",
        " self.is_borrowed=False\n",
        " def book_info(self):\n",
        "  print(self.title,self.author,self.isbn,self.is_borrowed)\n",
        "\n",
        "book = Book(\"The Great Gatsby\", \"F. Scott Fitzgerald\", \"9780743273565\")\n",
        "book.book_info()  # Output: \"Title: The Great Gatsby, Author: F. Scott Fitzgerald, ISBN: 9780743273565, Borrowed: False\"\n",
        "\n",
        "book.borrow()\n",
        "book.book_info()  # Output: \"Title: The Great Gatsby, Author: F. Scott Fitzgerald, ISBN: 9780743273565, Borrowed: True\"\n"
      ],
      "metadata": {
        "colab": {
          "base_uri": "https://localhost:8080/",
          "height": 211
        },
        "id": "RPgJo-uKRqqp",
        "outputId": "59b342bf-e464-48e5-8dd0-1cbb32bdc277"
      },
      "execution_count": 30,
      "outputs": [
        {
          "output_type": "error",
          "ename": "NameError",
          "evalue": "name 'Book' is not defined",
          "traceback": [
            "\u001b[0;31m---------------------------------------------------------------------------\u001b[0m",
            "\u001b[0;31mNameError\u001b[0m                                 Traceback (most recent call last)",
            "\u001b[0;32m<ipython-input-30-8c660bd6cf1a>\u001b[0m in \u001b[0;36m<cell line: 0>\u001b[0;34m()\u001b[0m\n\u001b[1;32m     23\u001b[0m   \u001b[0mprint\u001b[0m\u001b[0;34m(\u001b[0m\u001b[0mself\u001b[0m\u001b[0;34m.\u001b[0m\u001b[0mtitle\u001b[0m\u001b[0;34m,\u001b[0m\u001b[0mself\u001b[0m\u001b[0;34m.\u001b[0m\u001b[0mauthor\u001b[0m\u001b[0;34m,\u001b[0m\u001b[0mself\u001b[0m\u001b[0;34m.\u001b[0m\u001b[0misbn\u001b[0m\u001b[0;34m,\u001b[0m\u001b[0mself\u001b[0m\u001b[0;34m.\u001b[0m\u001b[0mis_borrowed\u001b[0m\u001b[0;34m)\u001b[0m\u001b[0;34m\u001b[0m\u001b[0;34m\u001b[0m\u001b[0m\n\u001b[1;32m     24\u001b[0m \u001b[0;34m\u001b[0m\u001b[0m\n\u001b[0;32m---> 25\u001b[0;31m \u001b[0mbook\u001b[0m \u001b[0;34m=\u001b[0m \u001b[0mBook\u001b[0m\u001b[0;34m(\u001b[0m\u001b[0;34m\"The Great Gatsby\"\u001b[0m\u001b[0;34m,\u001b[0m \u001b[0;34m\"F. Scott Fitzgerald\"\u001b[0m\u001b[0;34m,\u001b[0m \u001b[0;34m\"9780743273565\"\u001b[0m\u001b[0;34m)\u001b[0m\u001b[0;34m\u001b[0m\u001b[0;34m\u001b[0m\u001b[0m\n\u001b[0m\u001b[1;32m     26\u001b[0m \u001b[0mbook\u001b[0m\u001b[0;34m.\u001b[0m\u001b[0mbook_info\u001b[0m\u001b[0;34m(\u001b[0m\u001b[0;34m)\u001b[0m  \u001b[0;31m# Output: \"Title: The Great Gatsby, Author: F. Scott Fitzgerald, ISBN: 9780743273565, Borrowed: False\"\u001b[0m\u001b[0;34m\u001b[0m\u001b[0;34m\u001b[0m\u001b[0m\n\u001b[1;32m     27\u001b[0m \u001b[0mbook\u001b[0m\u001b[0;34m.\u001b[0m\u001b[0mborrow\u001b[0m\u001b[0;34m(\u001b[0m\u001b[0;34m)\u001b[0m\u001b[0;34m\u001b[0m\u001b[0;34m\u001b[0m\u001b[0m\n",
            "\u001b[0;31mNameError\u001b[0m: name 'Book' is not defined"
          ]
        }
      ]
    }
  ]
}