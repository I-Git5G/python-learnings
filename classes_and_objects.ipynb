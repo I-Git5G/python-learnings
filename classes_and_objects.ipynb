{
  "nbformat": 4,
  "nbformat_minor": 0,
  "metadata": {
    "colab": {
      "provenance": [],
      "authorship_tag": "ABX9TyMy1w8knW21iEDhHqzPnyYI",
      "include_colab_link": true
    },
    "kernelspec": {
      "name": "python3",
      "display_name": "Python 3"
    },
    "language_info": {
      "name": "python"
    }
  },
  "cells": [
    {
      "cell_type": "markdown",
      "metadata": {
        "id": "view-in-github",
        "colab_type": "text"
      },
      "source": [
        "<a href=\"https://colab.research.google.com/github/I-Git5G/python-learnings/blob/main/classes_and_objects.ipynb\" target=\"_parent\"><img src=\"https://colab.research.google.com/assets/colab-badge.svg\" alt=\"Open In Colab\"/></a>"
      ]
    },
    {
      "cell_type": "code",
      "source": [
        "class Car:\n",
        "    def __init__(self, make, model, year, mileage):\n",
        "        self.make = make\n",
        "        self.model = model\n",
        "        self.year = year\n",
        "        self.mileage = mileage\n",
        "\n",
        "    def drive(self, distance):\n",
        "        self.mileage += distance\n",
        "\n",
        "    def car_info(self):\n",
        "        print(f\"This car is a {self.year} {self.make} {self.model} with {self.mileage} km mileage.\")\n",
        "\n",
        "car = Car(\"Toyota\", \"Corolla\", 2020, 15000)\n",
        "car.car_info()  # Output: This car is a 2020 Toyota Corolla with 15000 km mileage.\n",
        "car.drive(500)\n",
        "car.car_info()"
      ],
      "metadata": {
        "colab": {
          "base_uri": "https://localhost:8080/"
        },
        "id": "N61-8EI2PjEN",
        "outputId": "723424c5-dcd0-402a-9bca-a937b36ac5f5"
      },
      "execution_count": null,
      "outputs": [
        {
          "output_type": "stream",
          "name": "stdout",
          "text": [
            "This car is a 2020 Toyota Corolla with 15000 km mileage.\n",
            "This car is a 2020 Toyota Corolla with 15500 km mileage.\n"
          ]
        }
      ]
    },
    {
      "cell_type": "code",
      "source": [
        "class Student:\n",
        "    def __init__(self, name, age, grade):\n",
        "        self.name = name\n",
        "        self.age = age\n",
        "        self.grade = grade\n",
        "\n",
        "    def display_info(self):\n",
        "        print(\"Student Information:\")\n",
        "        print(f\"Name: {self.name}\")\n",
        "        print(f\"Age: {self.age}\")\n",
        "        print(f\"Grade: {self.grade}\")\n",
        "\n",
        "    def is_passing(self):\n",
        "        return self.grade > 50\n",
        "\n",
        "student1 = Student(\"John\", 18, 72)\n",
        "student1.display_info()\n",
        "print(\"Is passing?\", student1.is_passing())\n",
        "\n",
        "student2 = Student(\"Henry\",21,35)\n",
        "student2.display_info()\n",
        "print(\"is_passing?\",student2.is_passing())\n"
      ],
      "metadata": {
        "colab": {
          "base_uri": "https://localhost:8080/"
        },
        "id": "AdrwlZAPff8u",
        "outputId": "843e24d0-a232-452a-b7d2-c55cb5be948c"
      },
      "execution_count": null,
      "outputs": [
        {
          "output_type": "stream",
          "name": "stdout",
          "text": [
            "Student Information:\n",
            "Name: John\n",
            "Age: 18\n",
            "Grade: 72\n",
            "Is passing? True\n",
            "Student Information:\n",
            "Name: Henry\n",
            "Age: 21\n",
            "Grade: 35\n",
            "is_passing? False\n"
          ]
        }
      ]
    },
    {
      "cell_type": "code",
      "source": [
        "#Create a Person and Employee Class\n",
        "#Person has: name, age\n",
        "#Employee inherits from Person, adds: employee_id, position\n",
        "#Method: display_employee_info()\n",
        "#Bonus: Track how many employees were created using a class variable.\n",
        "\n",
        "class person :\n",
        "  def __init__(self,name,age):\n",
        "    self.name=name\n",
        "    self.age=age\n",
        "\n",
        "class employee (person) :\n",
        "   employee=1\n",
        "   def __init__(self,name,age,employee_id,position):\n",
        "    super().__init__(name,age)\n",
        "    self.employee_id=employee_id\n",
        "    self.position=position\n",
        "\n",
        "   def display_employee_info(self):\n",
        "    print(f\"name:{self.name}\")\n",
        "    print(f\"age:{self.age}\")\n",
        "    print(f\"employee_id:{self.employee_id}\")\n",
        "    print(f\"position:{self.position}\")\n",
        "\n",
        "\n",
        "employee=employee(\"john\",36,5111820,\"manager\")\n",
        "employee.display_employee_info()\n",
        "print(f\"total employee:\",employee.employee)"
      ],
      "metadata": {
        "id": "qON5Dm20g27I",
        "colab": {
          "base_uri": "https://localhost:8080/"
        },
        "outputId": "b2541e64-6666-487b-9c63-5a7c39af491d"
      },
      "execution_count": 17,
      "outputs": [
        {
          "output_type": "stream",
          "name": "stdout",
          "text": [
            "name:john\n",
            "age:36\n",
            "employee_id:5111820\n",
            "position:manager\n",
            "total employee: 1\n"
          ]
        }
      ]
    }
  ]
}