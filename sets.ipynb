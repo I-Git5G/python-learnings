{
  "nbformat": 4,
  "nbformat_minor": 0,
  "metadata": {
    "colab": {
      "provenance": [],
      "authorship_tag": "ABX9TyMPo9L/uOSGXMEya8KVgSUU",
      "include_colab_link": true
    },
    "kernelspec": {
      "name": "python3",
      "display_name": "Python 3"
    },
    "language_info": {
      "name": "python"
    }
  },
  "cells": [
    {
      "cell_type": "markdown",
      "metadata": {
        "id": "view-in-github",
        "colab_type": "text"
      },
      "source": [
        "<a href=\"https://colab.research.google.com/github/I-Git5G/python-learnings/blob/main/sets.ipynb\" target=\"_parent\"><img src=\"https://colab.research.google.com/assets/colab-badge.svg\" alt=\"Open In Colab\"/></a>"
      ]
    },
    {
      "cell_type": "code",
      "execution_count": 2,
      "metadata": {
        "colab": {
          "base_uri": "https://localhost:8080/"
        },
        "id": "-uxgI6Ii7T9x",
        "outputId": "da8324dd-2c89-4299-9b1f-0ff3667f20de"
      },
      "outputs": [
        {
          "output_type": "stream",
          "name": "stdout",
          "text": [
            "{'bens', 'bmw', 'audi', 'ferrari'}\n"
          ]
        }
      ],
      "source": [
        "#add item,set,iterable\n",
        "#add item\n",
        "set={\"audi\",\"bmw\",\"bens\"}\n",
        "set.add(\"ferrari\")\n",
        "print(set)\n"
      ]
    },
    {
      "cell_type": "code",
      "source": [
        "#add set\n",
        "set={\"audi\",\"bmw\",\"bens\"}\n",
        "cars={\"ferrari\",\"mahindra\",\"tata\"}\n",
        "set.update(cars)\n",
        "print(set)"
      ],
      "metadata": {
        "colab": {
          "base_uri": "https://localhost:8080/"
        },
        "id": "fIaWHRSLEhRZ",
        "outputId": "885dd1db-7131-4465-d9e4-336404731235"
      },
      "execution_count": 4,
      "outputs": [
        {
          "output_type": "stream",
          "name": "stdout",
          "text": [
            "{'bmw', 'mahindra', 'audi', 'bens', 'ferrari', 'tata'}\n"
          ]
        }
      ]
    },
    {
      "cell_type": "code",
      "source": [
        "#add list to a set\n",
        "set={\"audi\",\"bmw\",\"bens\"}\n",
        "list=[\"v3\",\"v2\"]\n",
        "set.update(list)\n",
        "print(set)\n",
        "\n"
      ],
      "metadata": {
        "colab": {
          "base_uri": "https://localhost:8080/"
        },
        "id": "NlldnEEOFvbO",
        "outputId": "0dc11e9a-e104-41ec-cff3-7e2130aa0529"
      },
      "execution_count": 6,
      "outputs": [
        {
          "output_type": "stream",
          "name": "stdout",
          "text": [
            "{'audi', 'v2', 'v3', 'bmw', 'bens'}\n"
          ]
        }
      ]
    },
    {
      "cell_type": "code",
      "source": [
        "#remove() or discard()\n",
        "set={\"audi\",\"bmw\",\"bens\"}\n",
        "set.remove(\"bens\")\n",
        "print(set)\n"
      ],
      "metadata": {
        "colab": {
          "base_uri": "https://localhost:8080/"
        },
        "id": "GvTk9couGmae",
        "outputId": "f2916bdc-d96e-459b-e49f-805214dd068b"
      },
      "execution_count": 8,
      "outputs": [
        {
          "output_type": "stream",
          "name": "stdout",
          "text": [
            "{'bmw', 'audi'}\n"
          ]
        }
      ]
    },
    {
      "cell_type": "code",
      "source": [
        "#pop()\n",
        "#remove random item\n",
        "set={\"audi\",\"bmw\",\"bens\"}\n",
        "x=set.pop()\n",
        "print(x)\n",
        "print(set)"
      ],
      "metadata": {
        "colab": {
          "base_uri": "https://localhost:8080/"
        },
        "id": "OU3_3iouHHk1",
        "outputId": "66558153-78af-4460-9ae6-b5f8d0545dc5"
      },
      "execution_count": 9,
      "outputs": [
        {
          "output_type": "stream",
          "name": "stdout",
          "text": [
            "bens\n",
            "{'bmw', 'audi'}\n"
          ]
        }
      ]
    },
    {
      "cell_type": "code",
      "source": [
        "#union or | operator use to combine to sets\n",
        "set1={\"audi\",\"bmw\",\"bens\"}\n",
        "set2={\"ferarri\",\"ford\",\"mahindra\"}\n",
        "set3=set1.union(set2)\n",
        "print(set3)"
      ],
      "metadata": {
        "colab": {
          "base_uri": "https://localhost:8080/"
        },
        "id": "napBfi-PJEJm",
        "outputId": "88bef016-88e1-44ed-f3c9-e79cefbfedb3"
      },
      "execution_count": 10,
      "outputs": [
        {
          "output_type": "stream",
          "name": "stdout",
          "text": [
            "{'bmw', 'mahindra', 'audi', 'ford', 'ferarri', 'bens'}\n"
          ]
        }
      ]
    },
    {
      "cell_type": "code",
      "source": [
        "#intersection() or & operator both are used to define duplicates\n",
        "set1={\"audi\",\"bmw\",\"bens\"}\n",
        "set2={\"ferarri\",\"ford\",\"audi\"}\n",
        "\n",
        "set3 = set1.intersection(set2)\n",
        "print(set3)"
      ],
      "metadata": {
        "colab": {
          "base_uri": "https://localhost:8080/"
        },
        "id": "c5Muq_BIKMLZ",
        "outputId": "438839e3-580f-4360-e06d-aca0cbbdf01c"
      },
      "execution_count": 19,
      "outputs": [
        {
          "output_type": "stream",
          "name": "stdout",
          "text": [
            "{'audi'}\n"
          ]
        }
      ]
    }
  ]
}