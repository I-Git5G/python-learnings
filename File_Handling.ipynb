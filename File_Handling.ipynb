{
  "nbformat": 4,
  "nbformat_minor": 0,
  "metadata": {
    "colab": {
      "provenance": [],
      "authorship_tag": "ABX9TyPsMh6qE4k1HdPMOIYd5mhb",
      "include_colab_link": true
    },
    "kernelspec": {
      "name": "python3",
      "display_name": "Python 3"
    },
    "language_info": {
      "name": "python"
    }
  },
  "cells": [
    {
      "cell_type": "markdown",
      "metadata": {
        "id": "view-in-github",
        "colab_type": "text"
      },
      "source": [
        "<a href=\"https://colab.research.google.com/github/I-Git5G/python-learnings/blob/main/File_Handling.ipynb\" target=\"_parent\"><img src=\"https://colab.research.google.com/assets/colab-badge.svg\" alt=\"Open In Colab\"/></a>"
      ]
    },
    {
      "cell_type": "code",
      "execution_count": 55,
      "metadata": {
        "id": "og_gzrdRDXeI",
        "colab": {
          "base_uri": "https://localhost:8080/"
        },
        "outputId": "f6fc0895-60fb-4566-a12b-871fc0377f61"
      },
      "outputs": [
        {
          "output_type": "stream",
          "name": "stdout",
          "text": [
            "the total lines are: 2\n"
          ]
        }
      ],
      "source": [
        "#Count Lines in a File\n",
        "#Create a text file with some lines of text (or use notes.txt)\n",
        "#Write a program to:\n",
        "#Open the file\n",
        "#Count the number of lines\n",
        "#Print the result\n",
        "\n",
        "notes_txt=\"\"\"hello world im optimus prime from the\n",
        "              planet cybertron\"\"\"\n",
        "f=open(\"notes.txt\",\"w\")\n",
        "f.write(notes_txt)\n",
        "f.close()\n",
        "f=open(\"notes.txt\",\"r\")\n",
        "lines=f.readlines()\n",
        "f.close()\n",
        "print(\"the total lines are:\",len(lines))\n"
      ]
    }
  ]
}