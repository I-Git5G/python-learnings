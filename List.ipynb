{
  "nbformat": 4,
  "nbformat_minor": 0,
  "metadata": {
    "colab": {
      "provenance": [],
      "authorship_tag": "ABX9TyNjXDuQfD2dl+mYlKX0VfZo",
      "include_colab_link": true
    },
    "kernelspec": {
      "name": "python3",
      "display_name": "Python 3"
    },
    "language_info": {
      "name": "python"
    }
  },
  "cells": [
    {
      "cell_type": "markdown",
      "metadata": {
        "id": "view-in-github",
        "colab_type": "text"
      },
      "source": [
        "<a href=\"https://colab.research.google.com/github/I-Git5G/python-learnings/blob/main/List.ipynb\" target=\"_parent\"><img src=\"https://colab.research.google.com/assets/colab-badge.svg\" alt=\"Open In Colab\"/></a>"
      ]
    },
    {
      "cell_type": "code",
      "execution_count": 8,
      "metadata": {
        "id": "1CHnDsLSf3tY",
        "colab": {
          "base_uri": "https://localhost:8080/"
        },
        "outputId": "6c3e190c-55d4-4f45-fcd1-4273c758eaa4"
      },
      "outputs": [
        {
          "output_type": "stream",
          "name": "stdout",
          "text": [
            "[10, 20, 30, 40, 50]\n"
          ]
        }
      ],
      "source": [
        "#To access a list\n",
        "my_list=[10,20,30,40,50]\n",
        "print(my_list)"
      ]
    },
    {
      "cell_type": "code",
      "source": [
        "#negative indexing\n",
        "my_list=[10,20,30,40,50,60,70,80,90]\n",
        "print(my_list[-3:])\n"
      ],
      "metadata": {
        "colab": {
          "base_uri": "https://localhost:8080/"
        },
        "id": "cPHJ6jIpNir_",
        "outputId": "869bd50a-0060-492d-93b3-39d771880aba"
      },
      "execution_count": 27,
      "outputs": [
        {
          "output_type": "stream",
          "name": "stdout",
          "text": [
            "[70, 80, 90]\n"
          ]
        }
      ]
    },
    {
      "cell_type": "code",
      "source": [
        "#to access specific index\n",
        "my_list=[10,20,30,40,50]\n",
        "print(my_list[3])"
      ],
      "metadata": {
        "colab": {
          "base_uri": "https://localhost:8080/"
        },
        "id": "gF72Ua9QJmS6",
        "outputId": "e444d26e-e73b-4cd1-f472-b521ee675c65"
      },
      "execution_count": 9,
      "outputs": [
        {
          "output_type": "stream",
          "name": "stdout",
          "text": [
            "40\n"
          ]
        }
      ]
    },
    {
      "cell_type": "code",
      "source": [
        "#access from starting\n",
        "my_list=[10,20,30,40,50]\n",
        "print(my_list[0:3])\n"
      ],
      "metadata": {
        "colab": {
          "base_uri": "https://localhost:8080/"
        },
        "id": "vLywK_HNJ1WD",
        "outputId": "2c69076c-ce52-488b-8e86-dcbdcfa7cd30"
      },
      "execution_count": 10,
      "outputs": [
        {
          "output_type": "stream",
          "name": "stdout",
          "text": [
            "[10, 20, 30]\n"
          ]
        }
      ]
    },
    {
      "cell_type": "code",
      "source": [
        "# till the end\n",
        "my_list=[10,20,30,40,50,60,70,80]\n",
        "print(my_list[2:])"
      ],
      "metadata": {
        "colab": {
          "base_uri": "https://localhost:8080/"
        },
        "id": "XTcg_H29KDmr",
        "outputId": "040df927-9de4-4437-daf1-e0abcb688f9c"
      },
      "execution_count": 14,
      "outputs": [
        {
          "output_type": "stream",
          "name": "stdout",
          "text": [
            "[30, 40, 50, 60, 70, 80]\n"
          ]
        }
      ]
    },
    {
      "cell_type": "code",
      "source": [
        "#from starting but not included last num\n",
        "my_list=[10,20,30,40,50,60,70,80]\n",
        "print(my_list[:5])"
      ],
      "metadata": {
        "colab": {
          "base_uri": "https://localhost:8080/"
        },
        "id": "9JFcavmhKSSJ",
        "outputId": "f344ab25-07a0-4abe-9747-a286dba33476"
      },
      "execution_count": 18,
      "outputs": [
        {
          "output_type": "stream",
          "name": "stdout",
          "text": [
            "[10, 20, 30, 40, 50]\n"
          ]
        }
      ]
    },
    {
      "cell_type": "code",
      "source": [
        "#findind index and their items\n",
        "my_list=[10,20,30,40,50,60,70,80]\n",
        "for index, item in enumerate(my_list):\n",
        "    print(f\"Index: {index}, Item: {item}\")"
      ],
      "metadata": {
        "colab": {
          "base_uri": "https://localhost:8080/"
        },
        "id": "WR77GZzuLg9W",
        "outputId": "01554282-469a-4da1-8114-5ef950ff7d50"
      },
      "execution_count": 19,
      "outputs": [
        {
          "output_type": "stream",
          "name": "stdout",
          "text": [
            "Index: 0, Item: 10\n",
            "Index: 1, Item: 20\n",
            "Index: 2, Item: 30\n",
            "Index: 3, Item: 40\n",
            "Index: 4, Item: 50\n",
            "Index: 5, Item: 60\n",
            "Index: 6, Item: 70\n",
            "Index: 7, Item: 80\n"
          ]
        }
      ]
    },
    {
      "cell_type": "code",
      "source": [
        "#access through for loop\n",
        "my_list=[10,20,30,40,50,60,70,80]\n",
        "banana=my_list\n",
        "for item in banana:\n",
        "  print(item)"
      ],
      "metadata": {
        "colab": {
          "base_uri": "https://localhost:8080/"
        },
        "id": "WDY9lWzqMGvC",
        "outputId": "f743c884-68e8-4ea6-8c9e-9a89e10f1cf4"
      },
      "execution_count": 36,
      "outputs": [
        {
          "output_type": "stream",
          "name": "stdout",
          "text": [
            "10\n",
            "20\n",
            "30\n",
            "40\n",
            "50\n",
            "60\n",
            "70\n",
            "80\n"
          ]
        }
      ]
    },
    {
      "cell_type": "code",
      "source": [
        "#to access even numbers\n",
        "numbers = [1, 2, 3, 4, 5, 6, 7, 8, 9]\n",
        "numbers = [num for num in numbers if num % 2 == 0]\n",
        "print(numbers)"
      ],
      "metadata": {
        "colab": {
          "base_uri": "https://localhost:8080/"
        },
        "id": "TeqHpMd4StH8",
        "outputId": "0fb121a2-bece-4012-bc6d-25b1c1be6e2e"
      },
      "execution_count": 56,
      "outputs": [
        {
          "output_type": "stream",
          "name": "stdout",
          "text": [
            "[2, 4, 6, 8]\n"
          ]
        }
      ]
    },
    {
      "cell_type": "code",
      "source": [
        "#to access divisible by 3\n",
        "numbers = [1, 2, 3, 4, 5, 6, 7, 8, 9]\n",
        "numbers =[num for num in numbers if num % 3==0]\n",
        "print(numbers)\n",
        "\n"
      ],
      "metadata": {
        "colab": {
          "base_uri": "https://localhost:8080/"
        },
        "id": "cNlfut3CVttq",
        "outputId": "e503337d-ac0a-4169-f1a2-89f20dae7159"
      },
      "execution_count": 59,
      "outputs": [
        {
          "output_type": "stream",
          "name": "stdout",
          "text": [
            "[3, 6, 9]\n"
          ]
        }
      ]
    }
  ]
}