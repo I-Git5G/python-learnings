{
  "nbformat": 4,
  "nbformat_minor": 0,
  "metadata": {
    "colab": {
      "provenance": [],
      "authorship_tag": "ABX9TyO4aQlGN+dUTCGzST5I5HL8"
    },
    "kernelspec": {
      "name": "python3",
      "display_name": "Python 3"
    },
    "language_info": {
      "name": "python"
    }
  },
  "cells": [
    {
      "cell_type": "code",
      "execution_count": 6,
      "metadata": {
        "id": "k4hbZ4Hx6o7K",
        "colab": {
          "base_uri": "https://localhost:8080/"
        },
        "outputId": "2d8a5560-4abf-45c6-a2c9-7522980282f8"
      },
      "outputs": [
        {
          "output_type": "stream",
          "name": "stdout",
          "text": [
            "190\n"
          ]
        }
      ],
      "source": [
        "#casting\n",
        "\n",
        "v1=10.0\n",
        "v2=100.1\n",
        "v3=80\n",
        "\n",
        "v1=int(v1)\n",
        "v2=int(v2)\n",
        "v3=int(v3)\n",
        "\n",
        "print(v1+v2+v3)\n"
      ]
    }
  ]
}