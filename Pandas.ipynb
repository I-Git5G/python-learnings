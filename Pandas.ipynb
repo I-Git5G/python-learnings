{
  "nbformat": 4,
  "nbformat_minor": 0,
  "metadata": {
    "colab": {
      "provenance": [],
      "authorship_tag": "ABX9TyMyV5u4n9866TPnDFkrpwTm",
      "include_colab_link": true
    },
    "kernelspec": {
      "name": "python3",
      "display_name": "Python 3"
    },
    "language_info": {
      "name": "python"
    }
  },
  "cells": [
    {
      "cell_type": "markdown",
      "metadata": {
        "id": "view-in-github",
        "colab_type": "text"
      },
      "source": [
        "<a href=\"https://colab.research.google.com/github/I-Git5G/python-learnings/blob/main/Pandas.ipynb\" target=\"_parent\"><img src=\"https://colab.research.google.com/assets/colab-badge.svg\" alt=\"Open In Colab\"/></a>"
      ]
    },
    {
      "cell_type": "code",
      "execution_count": null,
      "metadata": {
        "colab": {
          "base_uri": "https://localhost:8080/"
        },
        "id": "D-WQZOmeYnO3",
        "outputId": "ed6ae88b-d86f-4e13-c607-12d4609ba865"
      },
      "outputs": [
        {
          "output_type": "stream",
          "name": "stdout",
          "text": [
            "      name  age         city\n",
            "0    alice   25      newyork\n",
            "1      bob   30  los angeles\n",
            "2  charlie   35      chicago\n"
          ]
        }
      ],
      "source": [
        "#Name\tAge\tCity\n",
        "#Alice\t25\tNew York\n",
        "#Bob\t30\tLos Angeles\n",
        "#Charlie\t35\tChicago\n",
        "\n",
        "import pandas as pd\n",
        "data = {\n",
        "     'name':['alice','bob','charlie'],\n",
        "     'age':[25,30,35],\n",
        "     'city':['newyork','los angeles','chicago']\n",
        " }\n",
        "\n",
        "df = pd.DataFrame(data)\n",
        "print(df)"
      ]
    },
    {
      "cell_type": "code",
      "source": [
        "# Create a DataFrame from the following dictionary:\n",
        "# ✅ Tasks:\n",
        "# 1. Create the DataFrame.\n",
        "# 2. Display the first 3 rows.\n",
        "# 3. Display data types of each column\n",
        "import pandas as pd\n",
        "data = {\n",
        "    'Name': ['Alice', 'Bob', 'Charlie', 'David', 'Eva'],\n",
        "    'Age': [24, 27, 22, 32, 29],\n",
        "    'Score': [85, 62, 90, 70, 88]\n",
        "}\n",
        "df=pd.DataFrame(data)\n",
        "print(df)\n",
        "df=df.head(3)\n",
        "print(df)\n",
        "print(df.dtypes)"
      ],
      "metadata": {
        "colab": {
          "base_uri": "https://localhost:8080/"
        },
        "id": "h0aj-KeVOfRW",
        "outputId": "7e512e65-683c-4b3c-d9c0-8aabdcfab171"
      },
      "execution_count": null,
      "outputs": [
        {
          "output_type": "stream",
          "name": "stdout",
          "text": [
            "      Name  Age  Score\n",
            "0    Alice   24     85\n",
            "1      Bob   27     62\n",
            "2  Charlie   22     90\n",
            "3    David   32     70\n",
            "4      Eva   29     88\n",
            "      Name  Age  Score\n",
            "0    Alice   24     85\n",
            "1      Bob   27     62\n",
            "2  Charlie   22     90\n",
            "Name     object\n",
            "Age       int64\n",
            "Score     int64\n",
            "dtype: object\n"
          ]
        }
      ]
    },
    {
      "cell_type": "code",
      "source": [
        "# ✅ Tasks:\n",
        "# 1. Find the average age.\n",
        "# 2. Find the maximum score.\n",
        "# 3. Count how many people have a score above 80.\n",
        "\n",
        "import pandas as pd\n",
        "data = {\n",
        "    'Name': ['Alice', 'Bob', 'Charlie', 'David', 'Eva'],\n",
        "    'Age': [24, 27, 22, 32, 29],\n",
        "    'Score': [85, 62, 90, 70, 88]\n",
        "}\n",
        "df=pd.DataFrame(data)\n",
        "print(df)\n",
        "average_age=df['Age'].mean()\n",
        "print(average_age)\n",
        "maximum_score=df['Score'].max()\n",
        "print(maximum_score)\n",
        "above_score=df[df['Score']>80]\n",
        "print(\"people who have scored above 80:\",above_score)\n"
      ],
      "metadata": {
        "colab": {
          "base_uri": "https://localhost:8080/"
        },
        "id": "zIyzboTxf9tx",
        "outputId": "5b46739f-e79a-456d-90d5-bdcb123b35ee"
      },
      "execution_count": null,
      "outputs": [
        {
          "output_type": "stream",
          "name": "stdout",
          "text": [
            "      Name  Age  Score\n",
            "0    Alice   24     85\n",
            "1      Bob   27     62\n",
            "2  Charlie   22     90\n",
            "3    David   32     70\n",
            "4      Eva   29     88\n",
            "26.8\n",
            "90\n",
            "people who have scored above 80:       Name  Age  Score\n",
            "0    Alice   24     85\n",
            "2  Charlie   22     90\n",
            "4      Eva   29     88\n"
          ]
        }
      ]
    },
    {
      "cell_type": "code",
      "source": [
        "# ✅ Tasks:\n",
        "# 1. Filter rows where Age is greater than 25.\n",
        "# 2. Filter rows where Score is above 80 and Age is below 30.\n",
        "\n",
        "import pandas as pd\n",
        "data = {\n",
        "    'Name': ['Alice', 'Bob', 'Charlie', 'David', 'Eva'],\n",
        "    'Age': [24, 27, 22, 32, 29],\n",
        "    'Score': [85, 62, 90, 70, 88]\n",
        "}\n",
        "df=pd.DataFrame(data)\n",
        "print(df)\n",
        "greater_age=df[df['Age']>25]\n",
        "print(\"greater then 25 years:\")\n",
        "print(greater_age)\n",
        "score_age=df[(df['Score']>80) & (df['Age']<30)]\n",
        "print(\"People with Score > 80 and Age < 30:\")\n",
        "print(score_age)\n",
        "\n"
      ],
      "metadata": {
        "colab": {
          "base_uri": "https://localhost:8080/"
        },
        "id": "qH4sxPtUlqnc",
        "outputId": "b38b8c1c-5dc8-4d77-d3bd-30494bdfc792"
      },
      "execution_count": null,
      "outputs": [
        {
          "output_type": "stream",
          "name": "stdout",
          "text": [
            "      Name  Age  Score\n",
            "0    Alice   24     85\n",
            "1      Bob   27     62\n",
            "2  Charlie   22     90\n",
            "3    David   32     70\n",
            "4      Eva   29     88\n",
            "greater then 25 years:\n",
            "    Name  Age  Score\n",
            "1    Bob   27     62\n",
            "3  David   32     70\n",
            "4    Eva   29     88\n",
            "People with Score > 80 and Age < 30:\n",
            "      Name  Age  Score\n",
            "0    Alice   24     85\n",
            "2  Charlie   22     90\n",
            "4      Eva   29     88\n"
          ]
        }
      ]
    },
    {
      "cell_type": "code",
      "source": [
        "import pandas as pd\n",
        "\n",
        "data = {\n",
        "    'OrderID': [101, 102, 103, 104, 105, 106],\n",
        "    'Customer': ['Alice', 'Bob', 'Alice', 'David', 'Eve', 'Frank'],\n",
        "    'Product': ['Laptop', 'Tablet', 'Monitor', 'Laptop', 'Monitor', 'Tablet'],\n",
        "    'Quantity': [1, 2, 1, 3, 2, 1],\n",
        "    'Price': [1200, 300, 200, 1150, 220, 310],\n",
        "    'OrderDate': ['2023-06-01', '2023-06-03', '2023-06-04', '2023-06-07', '2023-06-10', '2023-06-11']\n",
        "}\n",
        "#Display the first 3 rows of the DataFrame.\n",
        "#Show all orders made by Alice.\n",
        "#Calculate the total revenue (Price × Quantity).\n",
        "#Add a new column called TotalAmount = Price × Quantity.\n",
        "#Sort the DataFrame by TotalAmount in descending order.\n",
        "#Find the most sold product by quantity.\n",
        "#Calculate total revenue by each customer.\n",
        "#How many unique products were sold?\n",
        "#Group data by Product and calculate total revenue per product.\n",
        "#Resample the sales by week and show total quantity sold.\n",
        "\n",
        "\n",
        "import pandas as pd\n",
        "df=pd.DataFrame(data)\n",
        "print(df)\n",
        "\n",
        "df.head(3)\n",
        "alice_orders=df[df[\"Customer\"]==\"Alice\"]\n",
        "print(alice_orders)\n",
        "Total_Revenue=df[\"Price\"]*df[\"Quantity\"]\n",
        "print(Total_Revenue)\n",
        "df['Total_amount']=df[\"Price\"]*df[\"Quantity\"]\n",
        "print(df)\n",
        "df=df.sort_values(by='Total_amount',ascending=False)\n",
        "print(df)\n",
        "product_sales = df.groupby('Product')['Quantity'].sum()\n",
        "print(product_sales)\n"
      ],
      "metadata": {
        "colab": {
          "base_uri": "https://localhost:8080/"
        },
        "id": "xJl8-IoOmhtZ",
        "outputId": "46dde510-37e9-484d-d5dc-fe27d5de539a"
      },
      "execution_count": 41,
      "outputs": [
        {
          "output_type": "stream",
          "name": "stdout",
          "text": [
            "   OrderID Customer  Product  Quantity  Price   OrderDate\n",
            "0      101    Alice   Laptop         1   1200  2023-06-01\n",
            "1      102      Bob   Tablet         2    300  2023-06-03\n",
            "2      103    Alice  Monitor         1    200  2023-06-04\n",
            "3      104    David   Laptop         3   1150  2023-06-07\n",
            "4      105      Eve  Monitor         2    220  2023-06-10\n",
            "5      106    Frank   Tablet         1    310  2023-06-11\n",
            "   OrderID Customer  Product  Quantity  Price   OrderDate\n",
            "0      101    Alice   Laptop         1   1200  2023-06-01\n",
            "2      103    Alice  Monitor         1    200  2023-06-04\n",
            "0    1200\n",
            "1     600\n",
            "2     200\n",
            "3    3450\n",
            "4     440\n",
            "5     310\n",
            "dtype: int64\n",
            "   OrderID Customer  Product  Quantity  Price   OrderDate  Total_amount\n",
            "0      101    Alice   Laptop         1   1200  2023-06-01          1200\n",
            "1      102      Bob   Tablet         2    300  2023-06-03           600\n",
            "2      103    Alice  Monitor         1    200  2023-06-04           200\n",
            "3      104    David   Laptop         3   1150  2023-06-07          3450\n",
            "4      105      Eve  Monitor         2    220  2023-06-10           440\n",
            "5      106    Frank   Tablet         1    310  2023-06-11           310\n",
            "   OrderID Customer  Product  Quantity  Price   OrderDate  Total_amount\n",
            "3      104    David   Laptop         3   1150  2023-06-07          3450\n",
            "0      101    Alice   Laptop         1   1200  2023-06-01          1200\n",
            "1      102      Bob   Tablet         2    300  2023-06-03           600\n",
            "4      105      Eve  Monitor         2    220  2023-06-10           440\n",
            "5      106    Frank   Tablet         1    310  2023-06-11           310\n",
            "2      103    Alice  Monitor         1    200  2023-06-04           200\n",
            "Product\n",
            "Laptop     4\n",
            "Monitor    3\n",
            "Tablet     3\n",
            "Name: Quantity, dtype: int64\n"
          ]
        }
      ]
    },
    {
      "cell_type": "code",
      "source": [],
      "metadata": {
        "id": "tVHJkXYq9evo"
      },
      "execution_count": null,
      "outputs": []
    }
  ]
}